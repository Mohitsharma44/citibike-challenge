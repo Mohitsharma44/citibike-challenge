{
 "cells": [
  {
   "cell_type": "code",
   "execution_count": null,
   "metadata": {
    "collapsed": false
   },
   "outputs": [],
   "source": [
    "import matplotlib.pyplot as plt\n",
    "from matplotlib import gridspec\n",
    "import numpy as np\n",
    "from datetime import datetime, timedelta\n",
    "import citibike_1"
   ]
  },
  {
   "cell_type": "code",
   "execution_count": null,
   "metadata": {
    "collapsed": true
   },
   "outputs": [],
   "source": [
    "cbc = citibike_1.CitiBikeChallenge()"
   ]
  },
  {
   "cell_type": "code",
   "execution_count": null,
   "metadata": {
    "collapsed": false,
    "scrolled": true
   },
   "outputs": [],
   "source": [
    "f = cbc.load_file('2014-01-Citi-Bike-Trip-1.csv')\n",
    "print 'Total entries read: ',f.shape[0]"
   ]
  },
  {
   "cell_type": "code",
   "execution_count": null,
   "metadata": {
    "collapsed": false
   },
   "outputs": [],
   "source": [
    "gender = cbc.gender(f)\n",
    "g = (np.sum(gender[0]), np.sum(gender[1]), np.sum(gender[2]))\n",
    "print 'Total Male: ',g[0]\n",
    "print 'Total Female: ',g[1]\n",
    "print 'Unknown: ',g[2]"
   ]
  },
  {
   "cell_type": "code",
   "execution_count": null,
   "metadata": {
    "collapsed": false,
    "scrolled": true
   },
   "outputs": [],
   "source": [
    "avg = cbc.avg_ride_time(f)\n",
    "print 'Average Ride Time: ',avg[0]"
   ]
  },
  {
   "cell_type": "code",
   "execution_count": null,
   "metadata": {
    "collapsed": false,
    "scrolled": false
   },
   "outputs": [],
   "source": [
    "pk = np.zeros(24)\n",
    "hourly_dist = cbc.peak_hours(avg[1])\n",
    "for i in xrange(24):\n",
    "    pk[i] = np.sum(np.clip(hourly_dist[i].nonzero()[0], 0, 1))"
   ]
  },
  {
   "cell_type": "code",
   "execution_count": null,
   "metadata": {
    "collapsed": false
   },
   "outputs": [],
   "source": [
    "usertype = cbc.tourists(f)\n",
    "utype = (np.sum(usertype[0]), np.sum(usertype[1]))\n",
    "print 'Total New Yorkers: ',utype[0]\n",
    "print 'Total Tourists: ',utype[1]"
   ]
  },
  {
   "cell_type": "code",
   "execution_count": null,
   "metadata": {
    "collapsed": true
   },
   "outputs": [],
   "source": [
    "x_g = 0.22\n",
    "y_g = 0.5\n",
    "x_t = 0.22\n",
    "y_t = 0.5\n",
    "ap_width = 1\n",
    "ap_const = 1\n",
    "ap_ind = np.arange(24)"
   ]
  },
  {
   "cell_type": "code",
   "execution_count": null,
   "metadata": {
    "collapsed": false
   },
   "outputs": [],
   "source": [
    "fig = plt.figure()\n",
    "fig.canvas.set_window_title(\"Citibike Challenge\")\n",
    "gs = gridspec.GridSpec(2, 2)\n",
    "\n",
    "# For Hourly Usage\n",
    "ax = fig.add_subplot(gs[0,:])\n",
    "\n",
    "rect1 = ax.bar(np.arange(24), pk,\n",
    "                   color='#515151',edgecolor=None, alpha=0.3)\n",
    "\n",
    "ax.plot(np.arange(24), pk, color='#3F5D7D')\n",
    "    \n",
    "ap1 = ax.bar(ap_ind[0], np.average(pk[0:4]), width=4,\n",
    "             color='#00aedb', edgecolor=None, alpha=0.5, align='edge')\n",
    "\n",
    "ap2 = ax.bar(ap_ind[3] + ap_width, np.average(pk[4:8]), width=4,\n",
    "             color='#a200ff', edgecolor=None, alpha=0.5, align='edge')\n",
    "\n",
    "ap3 = ax.bar(ap_ind[6] + ap_width*2, np.average(pk[8:12]), width=4,\n",
    "             color='#f47835', edgecolor=None, alpha=0.5, align='edge')\n",
    "\n",
    "ap4 = ax.bar(ap_ind[9] + ap_width*3, np.average(pk[12:16]), width=4,\n",
    "             color='#d41243', edgecolor=None, alpha=0.5, align='edge')\n",
    "\n",
    "ap5 = ax.bar(ap_ind[12] + ap_width*4, np.average(pk[16:20]), width=4,\n",
    "             color='#8ec127', edgecolor=None, alpha=0.5, align='edge')\n",
    "\n",
    "ap6 = ax.bar(ap_ind[15] + ap_width*5, np.average(pk[20:24]), width=4,\n",
    "             color='#008080', edgecolor=None, alpha=0.5, align='edge')\n",
    "\n",
    "\n",
    "#ax.axis('tight')\n",
    "ax.set_xlabel('Hour of the Day')\n",
    "ax.set_xticks(np.arange(pk.shape[0]))\n",
    "ax.set_xlim(right = pk.shape[0])\n",
    "ax.grid(color='grey', linestyle='--', linewidth=1, alpha=0.2)\n",
    "ax.set_ylabel('Number of People')\n",
    "ax.set_title('Peak Hour for January 2014')\n",
    "#ax.xaxis.grid(False)\n",
    "\n",
    "def autolabel(aps):                                                             \n",
    "        for ap in aps:                                                              \n",
    "            h = ap.get_height()                                                     \n",
    "            ax.text(ap.get_x()+ap.get_width()/2., 1.05*h, '%d'%int(h),              \n",
    "                    ha='center', va='bottom', weight='bold')\n",
    "            \n",
    "autolabel(ap1)\n",
    "autolabel(ap2)\n",
    "autolabel(ap3)\n",
    "autolabel(ap4)\n",
    "autolabel(ap5)\n",
    "autolabel(ap6)"
   ]
  },
  {
   "cell_type": "code",
   "execution_count": null,
   "metadata": {
    "collapsed": false
   },
   "outputs": [],
   "source": [
    "# For Gender\n",
    "bx = fig.add_subplot(gs[1,0])                                                       \n",
    "rect2 = bx.bar(np.arange(2)+0.3, (g[0],g[1]), 0.3, color='#3F5D7D',                       \n",
    "               edgecolor=None, alpha=0.7)                                       \n",
    "bx.set_xlabel('Gender')                                                         \n",
    "bx.set_ylabel('Number of people')                                               \n",
    "bx.set_title('Rides by Men vs Women')                                           \n",
    "bx.grid(color='grey', linestyle='--', linewidth=1, alpha=0.2)                   \n",
    "bx.set_xlim([0, 2])                                                             \n",
    "bx.set_ylim(top = 1.02 * f.shape[0])                                            \n",
    "bx.axes.get_xaxis().set_visible(False)                                          \n",
    "bx.tick_params(labelsize=8)                                                     \n",
    "bx.text(x_g, y_g, 'Male', horizontalalignment='center',                         \n",
    "        verticalalignment='center', color='#303030',                            \n",
    "        weight='ultralight', rotation='horizontal', transform=bx.transAxes)     \n",
    "bx.text(x_g, y_g-0.2, np.sum(g[0]), horizontalalignment='center',               \n",
    "        verticalalignment='center', color='#303030',                            \n",
    "        weight='ultralight', rotation='horizontal', transform=bx.transAxes)     \n",
    "                                                                               \n",
    "bx.text(x_g+0.5, y_g, 'Female', horizontalalignment='center',                   \n",
    "        verticalalignment='center', color='#303030',                            \n",
    "        weight='ultralight', rotation='horizontal', transform=bx.transAxes)     \n",
    "bx.text(x_g+0.5, y_g-0.2, np.sum(g[1]), horizontalalignment='center',           \n",
    "        verticalalignment='center', color='#303030',                            \n",
    "        weight='ultralight', rotation='horizontal', transform=bx.transAxes)     "
   ]
  },
  {
   "cell_type": "code",
   "execution_count": null,
   "metadata": {
    "collapsed": false
   },
   "outputs": [],
   "source": [
    "cx = fig.add_subplot(gs[1,1])                                                                                                                                            \n",
    "rect3 = cx.bar(np.arange(2)+0.3, utype, 0.3, color='#3F5D7D',                                                                                                        \n",
    "               edgecolor=None, alpha=0.7)                                                                                                                            \n",
    "cx.set_xlabel('Types of Customers')                                                                                                                                  \n",
    "cx.set_ylabel('Number of Customers')                                                                                                                                 \n",
    "cx.set_title('Tourists vs Residents')                                                                                                                                \n",
    "cx.grid(color='grey', linestyle='--', linewidth=1, alpha=0.2)                                                                                                        \n",
    "cx.set_xlim([0, 2])                                                                                                                                                  \n",
    "cx.set_ylim(top = 1.02 * f.shape[0])                                                                                                                                 \n",
    "cx.axes.get_xaxis().set_visible(False)                                                                                                                               \n",
    "cx.tick_params(labelsize=8)                                                                                                                                          \n",
    "cx.text(x_t, y_t, 'New \\nYorkers', horizontalalignment='center',                                                                                                     \n",
    "        verticalalignment='center', color='#303030',                                                                                                                 \n",
    "        weight='ultralight', rotation='horizontal', transform=cx.transAxes)                                                                                          \n",
    "cx.text(x_t, y_t-0.2, utype[0], horizontalalignment='center',                                                                                                        \n",
    "        verticalalignment='center', color='#303030',                                                                                                                 \n",
    "        weight='ultralight', rotation='horizontal', transform=cx.transAxes)                                                                                          \n",
    "                                                                                                                                                                     \n",
    "cx.text(x_t+0.5, y_t, 'Tourists', horizontalalignment='center',                                                                                                      \n",
    "        verticalalignment='center', color='#303030',                                                                                                                 \n",
    "        weight='ultralight', rotation='horizontal', transform=cx.transAxes)                                                                                          \n",
    "cx.text(x_t+0.5, y_t-0.2, utype[1], horizontalalignment='center',                                                                                                    \n",
    "        verticalalignment='center', color='#303030',                                                                                                                 \n",
    "        weight='ultralight', rotation='horizontal', transform=cx.transAxes)"
   ]
  },
  {
   "cell_type": "code",
   "execution_count": null,
   "metadata": {
    "collapsed": false
   },
   "outputs": [],
   "source": [
    "plt.show()"
   ]
  },
  {
   "cell_type": "code",
   "execution_count": null,
   "metadata": {
    "collapsed": false
   },
   "outputs": [],
   "source": [
    "np.sum(np.logical_and(gender[2], hourly_dist[0]))"
   ]
  },
  {
   "cell_type": "code",
   "execution_count": null,
   "metadata": {
    "collapsed": false
   },
   "outputs": [],
   "source": []
  },
  {
   "cell_type": "code",
   "execution_count": null,
   "metadata": {
    "collapsed": false
   },
   "outputs": [],
   "source": [
    "mens = np.zeros([24, f.shape[0]])\n",
    "womens = np.zeros([24, f.shape[0]])\n",
    "unknown = np.zeros([24, f.shape[0]])\n",
    "for i in xrange(24):\n",
    "    mens[i] = np.logical_and(gender[0], hourly_dist[i])\n",
    "    womens[i] = np.logical_and(gender[1], hourly_dist[i])\n",
    "    unknown[i] = np.logical_and(gender[2], hourly_dist[i])"
   ]
  },
  {
   "cell_type": "code",
   "execution_count": null,
   "metadata": {
    "collapsed": false
   },
   "outputs": [],
   "source": [
    "print 'mens: ',np.sum(mens[0])\n",
    "print 'womens: ',np.sum(womens[0])\n",
    "print 'unknown: ',np.sum(unknown[0])"
   ]
  },
  {
   "cell_type": "code",
   "execution_count": null,
   "metadata": {
    "collapsed": false
   },
   "outputs": [],
   "source": [
    "m=np.zeros(24)\n",
    "w=np.zeros(24)\n",
    "u=np.zeros(24)\n",
    "\n",
    "for i in xrange(24):\n",
    "    m[i] = np.sum(mens[i])\n",
    "    w[i] = np.sum(womens[i])\n",
    "    u[i] = np.sum(unknown[i])\n",
    "\n",
    "#m=tuple(map(tuple, m))\n",
    "#w=tuple(map(tuple, w))\n",
    "#u=tuple(map(tuple,))\n",
    "\n",
    "m=tuple(m.tolist())\n",
    "w=tuple(w.tolist())\n",
    "u=tuple(u.tolist())"
   ]
  },
  {
   "cell_type": "code",
   "execution_count": null,
   "metadata": {
    "collapsed": false
   },
   "outputs": [],
   "source": []
  },
  {
   "cell_type": "code",
   "execution_count": null,
   "metadata": {
    "collapsed": false
   },
   "outputs": [],
   "source": [
    "fig = plt.figure()\n",
    "fig.canvas.set_window_title(\"Citibike Challenge\")\n",
    "gs = gridspec.GridSpec(2, 2)\n",
    "\n",
    "# For Hourly Usage\n",
    "ax = fig.add_subplot(gs[0,:])\n",
    "\n",
    "rect1 = ax.bar(np.arange(24), m, \n",
    "    color='#3F5D7D',edgecolor=None, alpha=0.3)\n",
    "\n",
    "rect2 = ax.bar(np.arange(24), w, \n",
    "    color='#3F5D7D',edgecolor=None, alpha=0.7, bottom=m)\n",
    "\n",
    "#rect3 = ax.bar(np.arange(24), u, \n",
    "#    color='cyan',edgecolor=None, alpha=0.7, bottom=)\n",
    "\n",
    "\n",
    "ax.plot(np.arange(24), pk, color='#3F5D7D')\n",
    "    \n",
    "ap1 = ax.bar(ap_ind[0], np.average(pk[0:4]), width=4,\n",
    "             color='#00aedb', edgecolor=None, alpha=0.5, align='edge')\n",
    "\n",
    "ap2 = ax.bar(ap_ind[3] + ap_width, np.average(pk[4:8]), width=4,\n",
    "             color='#a200ff', edgecolor=None, alpha=0.5, align='edge')\n",
    "\n",
    "ap3 = ax.bar(ap_ind[6] + ap_width*2, np.average(pk[8:12]), width=4,\n",
    "             color='#f47835', edgecolor=None, alpha=0.5, align='edge')\n",
    "\n",
    "ap4 = ax.bar(ap_ind[9] + ap_width*3, np.average(pk[12:16]), width=4,\n",
    "             color='#d41243', edgecolor=None, alpha=0.5, align='edge')\n",
    "\n",
    "ap5 = ax.bar(ap_ind[12] + ap_width*4, np.average(pk[16:20]), width=4,\n",
    "             color='#8ec127', edgecolor=None, alpha=0.5, align='edge')\n",
    "\n",
    "ap6 = ax.bar(ap_ind[15] + ap_width*5, np.average(pk[20:24]), width=4,\n",
    "             color='#008080', edgecolor=None, alpha=0.5, align='edge')\n",
    "\n",
    "\n",
    "#ax.axis('tight')\n",
    "#ax.xaxis.grid(False)\n",
    "\n",
    "def autolabel(aps):                                                             \n",
    "        for ap in aps:                                                              \n",
    "            h = ap.get_height()                                                     \n",
    "            ax.text(ap.get_x()+ap.get_width()/2., 1.05*h, '%d'%int(h),              \n",
    "                    ha='center', va='bottom', weight='bold')\n",
    "#autolabel(rect1)\n",
    "\n",
    "autolabel(ap1)\n",
    "autolabel(ap2)\n",
    "autolabel(ap3)\n",
    "autolabel(ap4)\n",
    "autolabel(ap5)\n",
    "autolabel(ap6)\n",
    "\n",
    "\n",
    "ax.set_xlabel('Hour of the Day')\n",
    "ax.set_xticks(np.arange(pk.shape[0]))\n",
    "ax.set_xlim(right = pk.shape[0])\n",
    "ax.grid(color='grey', linestyle='--', linewidth=1, alpha=0.2)\n",
    "ax.set_ylabel('Number of People')\n",
    "ax.set_title('Peak Hour for January 2014')"
   ]
  },
  {
   "cell_type": "code",
   "execution_count": null,
   "metadata": {
    "collapsed": true
   },
   "outputs": [],
   "source": [
    "plt.show()"
   ]
  },
  {
   "cell_type": "code",
   "execution_count": null,
   "metadata": {
    "collapsed": false
   },
   "outputs": [],
   "source": [
    "\n"
   ]
  },
  {
   "cell_type": "code",
   "execution_count": null,
   "metadata": {
    "collapsed": false
   },
   "outputs": [],
   "source": []
  },
  {
   "cell_type": "code",
   "execution_count": null,
   "metadata": {
    "collapsed": false
   },
   "outputs": [],
   "source": [
    "np.sum(mens[2]+womens[2]+unknown[2])"
   ]
  },
  {
   "cell_type": "code",
   "execution_count": null,
   "metadata": {
    "collapsed": false
   },
   "outputs": [],
   "source": [
    "pk[2]"
   ]
  },
  {
   "cell_type": "code",
   "execution_count": null,
   "metadata": {
    "collapsed": false
   },
   "outputs": [],
   "source": [
    "for i in f[:,1]:\n",
    "    datetime.strptime(str(np.char.strip(i,'\"')), '%Y-%m-%d %H:%M:%S')"
   ]
  },
  {
   "cell_type": "code",
   "execution_count": null,
   "metadata": {
    "collapsed": false
   },
   "outputs": [],
   "source": [
    "np.char.strip(f[0:2,1],'\"')[0]"
   ]
  },
  {
   "cell_type": "code",
   "execution_count": null,
   "metadata": {
    "collapsed": true
   },
   "outputs": [],
   "source": []
  }
 ],
 "metadata": {
  "kernelspec": {
   "display_name": "Python 2",
   "language": "python",
   "name": "python2"
  },
  "language_info": {
   "codemirror_mode": {
    "name": "ipython",
    "version": 2
   },
   "file_extension": ".py",
   "mimetype": "text/x-python",
   "name": "python",
   "nbconvert_exporter": "python",
   "pygments_lexer": "ipython2",
   "version": "2.7.6"
  }
 },
 "nbformat": 4,
 "nbformat_minor": 0
}
